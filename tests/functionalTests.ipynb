{
 "cells": [
  {
   "attachments": {},
   "cell_type": "markdown",
   "metadata": {},
   "source": [
    "# GPMS Functional Testing"
   ]
  },
  {
   "attachments": {},
   "cell_type": "markdown",
   "metadata": {},
   "source": [
    "## Imports and Functions"
   ]
  },
  {
   "cell_type": "code",
   "execution_count": null,
   "metadata": {},
   "outputs": [],
   "source": [
    "import requests\n",
    "import json\n",
    "import datetime as dt\n",
    "\n",
    "from Cryptodome.Cipher import AES\n",
    "from Crypto.Signature import pkcs1_15 as PKC\n",
    "from Crypto.PublicKey import RSA\n",
    "from Crypto.Hash import SHA256\n"
   ]
  },
  {
   "cell_type": "code",
   "execution_count": null,
   "metadata": {},
   "outputs": [],
   "source": [
    "AES_BLOCK_SIZE = 16\n",
    "\n",
    "def PKCS7_pad(data):\n",
    "    padsize = AES_BLOCK_SIZE - len(data) % AES_BLOCK_SIZE\n",
    "    return data + bytes([padsize]) * padsize\n",
    "\n",
    "def PKCS7_unpad(data):\n",
    "    offset = data[-1]\n",
    "    return data[:-offset]"
   ]
  },
  {
   "cell_type": "code",
   "execution_count": null,
   "metadata": {},
   "outputs": [],
   "source": [
    "def encrypt_aes(text: str, key: str) -> str:\n",
    "    iv = '0' * AES.block_size * 2\n",
    "    iv = bytes.fromhex(iv)\n",
    "\n",
    "    text = text.encode()\n",
    "    key = key.encode()\n",
    "\n",
    "    cipher = AES.new(key, AES.MODE_CBC, iv)\n",
    "    ciphertext = cipher.encrypt(PKCS7_pad(text))\n",
    "    ciphertext = ciphertext.hex()\n",
    "    return ciphertext\n",
    "\n",
    "def decrypt_aes(text: str, key: str) -> str:\n",
    "    iv = '0' * AES.block_size * 2\n",
    "    iv = bytes.fromhex(iv)\n",
    "\n",
    "    ciphertext = bytes.fromhex(text)\n",
    "    key = key.encode()\n",
    "    \n",
    "    cipher = AES.new(key, AES.MODE_CBC, iv)\n",
    "    text = cipher.decrypt(ciphertext)\n",
    "\n",
    "    text = PKCS7_unpad(text).decode()\n",
    "\n",
    "    return text\n",
    "\n",
    "def verify(signature: str, message: str):\n",
    "    f = open('../privkey.pem', 'rb')\n",
    "    key = RSA.importKey(f.read())\n",
    "    f.close()\n",
    "\n",
    "    signature = bytes.fromhex(signature)\n",
    "    hash_ = SHA256.new(message.encode())\n",
    "    PKC.new(key).verify(hash_, signature)"
   ]
  },
  {
   "cell_type": "code",
   "execution_count": null,
   "metadata": {},
   "outputs": [],
   "source": [
    "def encrypt_payload(header: dict, body: dict, api_key: str, shared_secret: str):\n",
    "    encrytped_body = encrypt_aes(json.dumps(body), api_key)\n",
    "    payload = {\n",
    "        \"header\": json.dumps(header),\n",
    "        \"body\": encrytped_body\n",
    "    }\n",
    "    encrytped_payload = encrypt_aes(json.dumps(payload), shared_secret)\n",
    "    return encrytped_payload\n",
    "\n",
    "def decrypt_payload(r: requests.Response, api_key: str, shared_secret: str, signature: str):\n",
    "    if r.status_code in (200, 201):\n",
    "        response = decrypt_aes((r.content).decode(), api_key)\n",
    "    else:\n",
    "        response = decrypt_aes((r.content).decode(), shared_secret)\n",
    "    \n",
    "    response_json = json.loads(response)\n",
    "    print(json.dumps(response_json, indent=4))\n",
    "\n",
    "    response_header = json.loads(response_json['header']) \n",
    "    verify(response_header['signature'], signature)\n",
    "\n",
    "    response_body = json.loads(response_json['body']) \n",
    "    return response_body"
   ]
  },
  {
   "attachments": {},
   "cell_type": "markdown",
   "metadata": {},
   "source": [
    "## Inject Environment Variables"
   ]
  },
  {
   "cell_type": "code",
   "execution_count": null,
   "metadata": {},
   "outputs": [],
   "source": [
    "from dotenv import load_dotenv\n",
    "from pathlib import Path\n",
    "import os\n",
    "\n",
    "dotenv_path = Path('../app.env')\n",
    "load_dotenv(dotenv_path=dotenv_path)\n",
    "\n",
    "SIGNATURE_MSG = os.getenv('SIGNATURE_MSG')\n",
    "SHARED_SECRET = os.getenv('SHARED_SECRET')\n",
    "TEST_API_KEY = os.getenv('TEST_API_KEY')\n",
    "TEST_SIGNATURE = os.getenv('TEST_SIGNATURE')"
   ]
  },
  {
   "attachments": {},
   "cell_type": "markdown",
   "metadata": {},
   "source": [
    "## A Simple Test"
   ]
  },
  {
   "cell_type": "code",
   "execution_count": null,
   "metadata": {},
   "outputs": [],
   "source": [
    "text = 'The rooster crows at midnight!'\n",
    "ciphertext = encrypt_aes(text, SHARED_SECRET)\n",
    "result = decrypt_aes(ciphertext, SHARED_SECRET)\n",
    "print(result)"
   ]
  },
  {
   "cell_type": "code",
   "execution_count": null,
   "metadata": {},
   "outputs": [],
   "source": [
    "verify(TEST_SIGNATURE, SIGNATURE_MSG)"
   ]
  },
  {
   "attachments": {},
   "cell_type": "markdown",
   "metadata": {},
   "source": [
    "## Functional Testing"
   ]
  },
  {
   "cell_type": "code",
   "execution_count": null,
   "metadata": {},
   "outputs": [],
   "source": [
    "domain = \"https://753oz794d3.execute-api.ap-southeast-2.amazonaws.com\""
   ]
  },
  {
   "attachments": {},
   "cell_type": "markdown",
   "metadata": {},
   "source": [
    "### Password Generation"
   ]
  },
  {
   "cell_type": "code",
   "execution_count": null,
   "metadata": {},
   "outputs": [],
   "source": [
    "# happy flow\n",
    "\n",
    "url = f\"{domain}/v1/password/generate\"\n",
    "header = {\n",
    "    \"clientId\": 10000\n",
    "}\n",
    "body = {\n",
    "    \"clientId\":10000,\n",
    "    \"entryId\": 10000,\n",
    "    \"userInput\":\"gooooogle\",\n",
    "    \"token\": \"xk034#9ucpx@k03-2in9xb2\"\n",
    "}\n",
    "\n",
    "encrytped_payload = encrypt_payload(header, body, TEST_API_KEY, SHARED_SECRET)\n",
    "r = requests.post(url, json=encrytped_payload)\n",
    "print(f\"status code: {r.status_code}\")\n",
    "\n",
    "response_body = decrypt_payload(r, TEST_API_KEY, SHARED_SECRET, SIGNATURE_MSG)"
   ]
  },
  {
   "cell_type": "code",
   "execution_count": null,
   "metadata": {},
   "outputs": [],
   "source": [
    "# wrong field type\n",
    "\n",
    "url = f\"{domain}/v1/password/generate\"\n",
    "header = {\n",
    "    \"clientId\": 10000\n",
    "}\n",
    "body = {\n",
    "    \"clientId\": 10000,\n",
    "    \"entryId\": \"10001\", # wrong type\n",
    "    \"userInput\":\"google\",\n",
    "    \"token\": \"xk034#9ucpx@k03-2in9xb2\"\n",
    "}\n",
    "\n",
    "encrytped_payload = encrypt_payload(header, body, TEST_API_KEY, SHARED_SECRET)\n",
    "r = requests.post(url, json=encrytped_payload)\n",
    "print(f\"status code: {r.status_code}\")\n",
    "\n",
    "response_body = decrypt_payload(r, TEST_API_KEY, SHARED_SECRET, SIGNATURE_MSG)"
   ]
  },
  {
   "cell_type": "code",
   "execution_count": null,
   "metadata": {},
   "outputs": [],
   "source": [
    "# missing fields in request\n",
    "\n",
    "url = f\"{domain}/v1/password/generate\"\n",
    "header = {\n",
    "    \"clientId\": 10000\n",
    "}\n",
    "body = {\n",
    "    \"clientId\":10000,\n",
    "    \"entryId\": 10001,\n",
    "    \"userInput\":\"google\"\n",
    "    # missing field\n",
    "}\n",
    "\n",
    "encrytped_payload = encrypt_payload(header, body, TEST_API_KEY, SHARED_SECRET)\n",
    "r = requests.post(url, json=encrytped_payload)\n",
    "print(f\"status code: {r.status_code}\")\n",
    "\n",
    "response_body = decrypt_payload(r, TEST_API_KEY, SHARED_SECRET, SIGNATURE_MSG)"
   ]
  },
  {
   "cell_type": "code",
   "execution_count": null,
   "metadata": {},
   "outputs": [],
   "source": [
    "# password entry not found in database \n",
    "\n",
    "url = f\"{domain}/v1/password/generate\"\n",
    "header = {\n",
    "    \"clientId\": 10000\n",
    "}\n",
    "body = {\n",
    "    \"clientId\":10000,\n",
    "    \"entryId\": 20000, # invalid entry id\n",
    "    \"userInput\":\"google\",\n",
    "    \"token\": \"xk034#9ucpx@k03-2in9xb2\"\n",
    "}\n",
    "\n",
    "encrytped_payload = encrypt_payload(header, body, TEST_API_KEY, SHARED_SECRET)\n",
    "r = requests.post(url, json=encrytped_payload)\n",
    "print(f\"status code: {r.status_code}\")\n",
    "\n",
    "response_body = decrypt_payload(r, TEST_API_KEY, SHARED_SECRET, SIGNATURE_MSG)"
   ]
  },
  {
   "cell_type": "code",
   "execution_count": null,
   "metadata": {},
   "outputs": [],
   "source": [
    "# wrongly encrypted request\n",
    "\n",
    "url = f\"{domain}/v1/password/generate\"\n",
    "header = {\n",
    "    \"clientId\": 10000\n",
    "}\n",
    "body = {\n",
    "    \"clientId\":10000,\n",
    "    \"entryId\": 20000,\n",
    "    \"userInput\":\"google\",\n",
    "    \"token\": \"xk034#9ucpx@k03-2in9xb2\"\n",
    "}\n",
    "\n",
    "encrytped_payload = encrypt_payload(header, body, SHARED_SECRET, TEST_API_KEY)\n",
    "r = requests.post(url, json=encrytped_payload)\n",
    "print(f\"status code: {r.status_code}\")\n",
    "\n",
    "response_body = decrypt_payload(r, TEST_API_KEY, SHARED_SECRET, SIGNATURE_MSG)"
   ]
  },
  {
   "attachments": {},
   "cell_type": "markdown",
   "metadata": {},
   "source": [
    "### Entry Creation"
   ]
  },
  {
   "cell_type": "code",
   "execution_count": null,
   "metadata": {},
   "outputs": [],
   "source": [
    "# happy flow\n",
    "\n",
    "url = f\"{domain}/v1/entry/create\"\n",
    "header = {\n",
    "    \"clientId\": 10000\n",
    "}\n",
    "metadata = {\n",
    "    \"url\": \"www.google.com\",\n",
    "    \"createdAt\": dt.datetime.now(tz = dt.timezone.utc).strftime(\"%Y-%m-%dT%H:%M:%S%z\"),\n",
    "    \"ipAddress\": \"8.8.8.8\",\n",
    "    \"type\": \"search engine\"\n",
    "}\n",
    "body = {\n",
    "    \"clientId\":10000,\n",
    "    \"entryReferenceId\":\"G0001\",\n",
    "    \"passwordLength\":15,\n",
    "    \"siteName\":\"Google\",\n",
    "    \"siteType\":\"Website\",\n",
    "    \"metadata\": json.dumps(metadata),\n",
    "    \"username\":\"abc\"\n",
    "}\n",
    "\n",
    "encrytped_payload = encrypt_payload(header, body, TEST_API_KEY, SHARED_SECRET)\n",
    "r = requests.post(url, json=encrytped_payload)\n",
    "print(f\"status code: {r.status_code}\")\n",
    "\n",
    "response_body = decrypt_payload(r, TEST_API_KEY, SHARED_SECRET, SIGNATURE_MSG)"
   ]
  },
  {
   "cell_type": "code",
   "execution_count": null,
   "metadata": {},
   "outputs": [],
   "source": [
    "# wrong field type\n",
    "\n",
    "url = f\"{domain}/v1/entry/create\"\n",
    "header = {\n",
    "    \"clientId\": 10000\n",
    "}\n",
    "body = {\n",
    "    \"clientId\":10000,\n",
    "    \"entryReferenceId\":\"G0001\",\n",
    "    \"passwordLength\":\"15\",\n",
    "    \"siteName\":\"Google\",\n",
    "    \"siteType\":\"Website\",\n",
    "    \"metadata\":\"www.google.com\",\n",
    "    \"username\":\"abc\"\n",
    "}\n",
    "\n",
    "encrytped_payload = encrypt_payload(header, body, TEST_API_KEY, SHARED_SECRET)\n",
    "r = requests.post(url, json=encrytped_payload)\n",
    "print(f\"status code: {r.status_code}\")\n",
    "\n",
    "response_body = decrypt_payload(r, TEST_API_KEY, SHARED_SECRET, SIGNATURE_MSG)"
   ]
  },
  {
   "cell_type": "code",
   "execution_count": null,
   "metadata": {},
   "outputs": [],
   "source": [
    "# missing fields\n",
    "\n",
    "url = f\"{domain}/v1/entry/create\"\n",
    "header = {\n",
    "    \"clientId\": 10000\n",
    "}\n",
    "body = {\n",
    "    \"clientId\":10000,\n",
    "    \"passwordLength\":15,\n",
    "    \"siteName\":\"Google\",\n",
    "    \"siteType\":\"Website\",\n",
    "    \"metadata\":\"www.google.com\",\n",
    "    \"username\":\"abc\"\n",
    "}\n",
    "\n",
    "encrytped_payload = encrypt_payload(header, body, TEST_API_KEY, SHARED_SECRET)\n",
    "r = requests.post(url, json=encrytped_payload)\n",
    "print(f\"status code: {r.status_code}\")\n",
    "\n",
    "response_body = decrypt_payload(r, TEST_API_KEY, SHARED_SECRET, SIGNATURE_MSG)"
   ]
  },
  {
   "cell_type": "code",
   "execution_count": null,
   "metadata": {},
   "outputs": [],
   "source": [
    "# Less than minimum password length\n",
    "\n",
    "url = f\"{domain}/v1/entry/create\"\n",
    "header = {\n",
    "    \"clientId\": 10000\n",
    "}\n",
    "body = {\n",
    "    \"clientId\":10000,\n",
    "    \"entryReferenceId\":\"G0001\",\n",
    "    \"passwordLength\":4,\n",
    "    \"siteName\":\"Google\",\n",
    "    \"siteType\":\"Website\",\n",
    "    \"metadata\":\"www.google.com\",\n",
    "    \"username\":\"abc\"\n",
    "}\n",
    "\n",
    "encrytped_payload = encrypt_payload(header, body, TEST_API_KEY, SHARED_SECRET)\n",
    "r = requests.post(url, json=encrytped_payload)\n",
    "print(f\"status code: {r.status_code}\")\n",
    "\n",
    "response_body = decrypt_payload(r, TEST_API_KEY, SHARED_SECRET, SIGNATURE_MSG)"
   ]
  },
  {
   "cell_type": "code",
   "execution_count": null,
   "metadata": {},
   "outputs": [],
   "source": [
    "# client ID not found in database\n",
    "\n",
    "url = f\"{domain}/v1/entry/create\"\n",
    "header = {\n",
    "    \"clientId\": 10000\n",
    "}\n",
    "body = {\n",
    "    \"clientId\":20000,\n",
    "    \"entryReferenceId\":\"G0001\",\n",
    "    \"passwordLength\":15,\n",
    "    \"siteName\":\"Google\",\n",
    "    \"siteType\":\"Website\",\n",
    "    \"metadata\":\"www.google.com\",\n",
    "    \"username\":\"abc\"\n",
    "}\n",
    "\n",
    "encrytped_payload = encrypt_payload(header, body, TEST_API_KEY, SHARED_SECRET)\n",
    "r = requests.post(url, json=encrytped_payload)\n",
    "print(f\"status code: {r.status_code}\")\n",
    "\n",
    "response_body = decrypt_payload(r, TEST_API_KEY, SHARED_SECRET, SIGNATURE_MSG)"
   ]
  },
  {
   "cell_type": "code",
   "execution_count": null,
   "metadata": {},
   "outputs": [],
   "source": [
    "# wrongly encrypted request\n",
    "\n",
    "url = f\"{domain}/v1/entry/create\"\n",
    "header = {\n",
    "    \"clientId\": 10000\n",
    "}\n",
    "body = {\n",
    "    \"clientId\":10000,\n",
    "    \"entryReferenceId\":\"G0001\",\n",
    "    \"passwordLength\":15,\n",
    "    \"siteName\":\"Google\",\n",
    "    \"siteType\":\"Website\",\n",
    "    \"metadata\":\"www.google.com\",\n",
    "    \"username\":\"abc\"\n",
    "}\n",
    "\n",
    "encrytped_payload = encrypt_payload(header, body, SHARED_SECRET, TEST_API_KEY)\n",
    "r = requests.post(url, json=encrytped_payload)\n",
    "print(f\"status code: {r.status_code}\")\n",
    "\n",
    "response_body = decrypt_payload(r, TEST_API_KEY, SHARED_SECRET, SIGNATURE_MSG)"
   ]
  }
 ],
 "metadata": {
  "kernelspec": {
   "display_name": "Python 3",
   "language": "python",
   "name": "python3"
  },
  "language_info": {
   "codemirror_mode": {
    "name": "ipython",
    "version": 3
   },
   "file_extension": ".py",
   "mimetype": "text/x-python",
   "name": "python",
   "nbconvert_exporter": "python",
   "pygments_lexer": "ipython3",
   "version": "3.10.2"
  },
  "orig_nbformat": 4
 },
 "nbformat": 4,
 "nbformat_minor": 2
}
