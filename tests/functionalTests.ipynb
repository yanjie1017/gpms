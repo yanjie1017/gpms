{
 "cells": [
  {
   "attachments": {},
   "cell_type": "markdown",
   "metadata": {},
   "source": [
    "# GPMS Functional Testing"
   ]
  },
  {
   "attachments": {},
   "cell_type": "markdown",
   "metadata": {},
   "source": [
    "## Imports and Functions"
   ]
  },
  {
   "cell_type": "code",
   "execution_count": 1,
   "metadata": {},
   "outputs": [],
   "source": [
    "import requests\n",
    "import json\n",
    "\n",
    "from Cryptodome.Cipher import AES\n",
    "from Crypto.Signature import pkcs1_15 as PKC\n",
    "from Crypto.PublicKey import RSA\n",
    "from Crypto.Hash import SHA256\n"
   ]
  },
  {
   "cell_type": "code",
   "execution_count": 2,
   "metadata": {},
   "outputs": [],
   "source": [
    "AES_BLOCK_SIZE = 16\n",
    "\n",
    "def PKCS7_pad(data):\n",
    "    padsize = AES_BLOCK_SIZE - len(data) % AES_BLOCK_SIZE\n",
    "    return data + bytes([padsize]) * padsize\n",
    "\n",
    "def PKCS7_unpad(data):\n",
    "    offset = data[-1]\n",
    "    return data[:-offset]"
   ]
  },
  {
   "cell_type": "code",
   "execution_count": 3,
   "metadata": {},
   "outputs": [],
   "source": [
    "def encrypt_aes(text: str, key: str) -> str:\n",
    "    iv = '0' * AES.block_size * 2\n",
    "    iv = bytes.fromhex(iv)\n",
    "\n",
    "    text = text.encode()\n",
    "    key = key.encode()\n",
    "\n",
    "    cipher = AES.new(key, AES.MODE_CBC, iv)\n",
    "    ciphertext = cipher.encrypt(PKCS7_pad(text))\n",
    "    ciphertext = ciphertext.hex()\n",
    "    return ciphertext\n",
    "\n",
    "def decrypt_aes(text: str, key: str) -> str:\n",
    "    iv = '0' * AES.block_size * 2\n",
    "    iv = bytes.fromhex(iv)\n",
    "\n",
    "    ciphertext = bytes.fromhex(text)\n",
    "    key = key.encode()\n",
    "    \n",
    "    cipher = AES.new(key, AES.MODE_CBC, iv)\n",
    "    text = cipher.decrypt(ciphertext)\n",
    "\n",
    "    text = PKCS7_unpad(text).decode()\n",
    "\n",
    "    return text\n",
    "\n",
    "def verify(signature: str, message: str):\n",
    "    f = open('../privkey.pem', 'rb')\n",
    "    key = RSA.importKey(f.read())\n",
    "    f.close()\n",
    "\n",
    "    signature = bytes.fromhex(signature)\n",
    "    hash_ = SHA256.new(message.encode())\n",
    "    PKC.new(key).verify(hash_, signature)"
   ]
  },
  {
   "cell_type": "code",
   "execution_count": 4,
   "metadata": {},
   "outputs": [],
   "source": [
    "def encrypt_payload(header: dict, body: dict, api_key: str, shared_secret: str):\n",
    "    encrytped_body = encrypt_aes(json.dumps(body), api_key)\n",
    "    payload = {\n",
    "        \"header\": json.dumps(header),\n",
    "        \"body\": encrytped_body\n",
    "    }\n",
    "    encrytped_payload = encrypt_aes(json.dumps(payload), shared_secret)\n",
    "    return encrytped_payload\n",
    "\n",
    "def decrypt_payload(r: requests.Response, api_key: str, shared_secret: str, signature: str):\n",
    "    if r.status_code in (200, 201):\n",
    "        response = decrypt_aes((r.content).decode(), api_key)\n",
    "    else:\n",
    "        response = decrypt_aes((r.content).decode(), shared_secret)\n",
    "    \n",
    "    response_json = json.loads(response)\n",
    "    print(json.dumps(response_json, indent=4))\n",
    "\n",
    "    response_header = json.loads(response_json['header']) \n",
    "    verify(response_header['signature'], signature)\n",
    "\n",
    "    response_body = json.loads(response_json['body']) \n",
    "    return response_body"
   ]
  },
  {
   "attachments": {},
   "cell_type": "markdown",
   "metadata": {},
   "source": [
    "## Inject Environment Variables"
   ]
  },
  {
   "cell_type": "code",
   "execution_count": 5,
   "metadata": {},
   "outputs": [],
   "source": [
    "from dotenv import load_dotenv\n",
    "from pathlib import Path\n",
    "import os\n",
    "\n",
    "dotenv_path = Path('../app.env')\n",
    "load_dotenv(dotenv_path=dotenv_path)\n",
    "\n",
    "SIGNATURE_MSG = os.getenv('SIGNATURE_MSG')\n",
    "SHARED_SECRET = os.getenv('SHARED_SECRET')\n",
    "TEST_API_KEY = os.getenv('TEST_API_KEY')\n",
    "TEST_SIGNATURE = os.getenv('TEST_SIGNATURE')"
   ]
  },
  {
   "attachments": {},
   "cell_type": "markdown",
   "metadata": {},
   "source": [
    "## A Simple Test"
   ]
  },
  {
   "cell_type": "code",
   "execution_count": null,
   "metadata": {},
   "outputs": [],
   "source": [
    "text = 'The rooster crows at midnight!'\n",
    "ciphertext = encrypt_aes(text, SHARED_SECRET)\n",
    "result = decrypt_aes(ciphertext, SHARED_SECRET)\n",
    "print(result)"
   ]
  },
  {
   "cell_type": "code",
   "execution_count": null,
   "metadata": {},
   "outputs": [],
   "source": [
    "verify(TEST_SIGNATURE, SIGNATURE_MSG)"
   ]
  },
  {
   "attachments": {},
   "cell_type": "markdown",
   "metadata": {},
   "source": [
    "## Functional Testing"
   ]
  },
  {
   "attachments": {},
   "cell_type": "markdown",
   "metadata": {},
   "source": [
    "### Health Check"
   ]
  },
  {
   "cell_type": "code",
   "execution_count": 10,
   "metadata": {},
   "outputs": [
    {
     "name": "stdout",
     "output_type": "stream",
     "text": [
      "status code: 200\n",
      "b''\n"
     ]
    }
   ],
   "source": [
    "url = \"http://127.0.0.1:8000/v1/health\"\n",
    "r = requests.post(url)\n",
    "print(f\"status code: {r.status_code}\")\n",
    "print(r.content)"
   ]
  },
  {
   "attachments": {},
   "cell_type": "markdown",
   "metadata": {},
   "source": [
    "### Password Generation"
   ]
  },
  {
   "cell_type": "code",
   "execution_count": 6,
   "metadata": {},
   "outputs": [
    {
     "name": "stdout",
     "output_type": "stream",
     "text": [
      "status code: 200\n",
      "{\n",
      "    \"header\": \"{\\\"signature\\\":\\\"4cb5272d707d2e455a13492c011b62b821342a92320febf3383fd6b13d72b841af7360f80a02aa3cd4dbfea4f6ea774f8a3f870c06fd009a05190350b9d3b67cb562443f4278271707ba9ccdf7b83d84f3d516fb54c25515c411d333ea40c82f0c69d31c36576cc67dcbe555fb24bee8e68d5f6d1dbabc2efe4a8eaf1ea06356490dc9d3a2f69779aa5aa6194789aa788111218ac148e89de984471e1281ae4a3edb85a73293489d1b750ae103dd3a9ec9672cbfdcac92a7bcc332289f71d7ab9cf8d392449d022fa281e418ea90a461d26dcbf09a5a799b7f8732fae32880896b0cde7c986b628472a019952962406cfe9a3cb0f836b54a8baa6be7ad9e873e\\\"}\",\n",
      "    \"body\": \"{\\\"password\\\":\\\"cEV9C8f)8X\\\\u003cb*{3\\\"}\"\n",
      "}\n"
     ]
    }
   ],
   "source": [
    "# happy flow\n",
    "\n",
    "url = \"http://127.0.0.1:8000/v1/password/generate\"\n",
    "header = {\n",
    "    \"clientId\": 10000\n",
    "}\n",
    "body = {\n",
    "    \"clientId\":10000,\n",
    "    \"entryId\": 10001,\n",
    "    \"userInput\":\"google\",\n",
    "    \"token\": \"xk034#9ucpx@k03-2in9xb2\"\n",
    "}\n",
    "\n",
    "encrytped_payload = encrypt_payload(header, body, TEST_API_KEY, SHARED_SECRET)\n",
    "r = requests.post(url, json=encrytped_payload)\n",
    "print(f\"status code: {r.status_code}\")\n",
    "\n",
    "response_body = decrypt_payload(r, TEST_API_KEY, SHARED_SECRET, SIGNATURE_MSG)"
   ]
  },
  {
   "cell_type": "code",
   "execution_count": null,
   "metadata": {},
   "outputs": [],
   "source": [
    "# wrong field type\n",
    "\n",
    "url = \"http://127.0.0.1:8000/v1/password/generate\"\n",
    "header = {\n",
    "    \"clientId\": 10000\n",
    "}\n",
    "body = {\n",
    "    \"clientId\": 10000,\n",
    "    \"entryId\": \"10001\", # wrong type\n",
    "    \"userInput\":\"google\",\n",
    "    \"token\": \"xk034#9ucpx@k03-2in9xb2\"\n",
    "}\n",
    "\n",
    "encrytped_payload = encrypt_payload(header, body, TEST_API_KEY, SHARED_SECRET)\n",
    "r = requests.post(url, json=encrytped_payload)\n",
    "print(f\"status code: {r.status_code}\")\n",
    "\n",
    "response_body = decrypt_payload(r, TEST_API_KEY, SHARED_SECRET, SIGNATURE_MSG)"
   ]
  },
  {
   "cell_type": "code",
   "execution_count": null,
   "metadata": {},
   "outputs": [],
   "source": [
    "# missing fields in request\n",
    "\n",
    "url = \"http://127.0.0.1:8000/v1/password/generate\"\n",
    "header = {\n",
    "    \"clientId\": 10000\n",
    "}\n",
    "body = {\n",
    "    \"clientId\":10000,\n",
    "    \"entryId\": 10001,\n",
    "    \"userInput\":\"google\"\n",
    "    # missing field\n",
    "}\n",
    "\n",
    "encrytped_payload = encrypt_payload(header, body, TEST_API_KEY, SHARED_SECRET)\n",
    "r = requests.post(url, json=encrytped_payload)\n",
    "print(f\"status code: {r.status_code}\")\n",
    "\n",
    "response_body = decrypt_payload(r, TEST_API_KEY, SHARED_SECRET, SIGNATURE_MSG)"
   ]
  },
  {
   "cell_type": "code",
   "execution_count": null,
   "metadata": {},
   "outputs": [],
   "source": [
    "# password entry not found in database \n",
    "\n",
    "url = \"http://127.0.0.1:8000/v1/password/generate\"\n",
    "header = {\n",
    "    \"clientId\": 10000\n",
    "}\n",
    "body = {\n",
    "    \"clientId\":10000,\n",
    "    \"entryId\": 20000, # invalid entry id\n",
    "    \"userInput\":\"google\",\n",
    "    \"token\": \"xk034#9ucpx@k03-2in9xb2\"\n",
    "}\n",
    "\n",
    "encrytped_payload = encrypt_payload(header, body, TEST_API_KEY, SHARED_SECRET)\n",
    "r = requests.post(url, json=encrytped_payload)\n",
    "print(f\"status code: {r.status_code}\")\n",
    "\n",
    "response_body = decrypt_payload(r, TEST_API_KEY, SHARED_SECRET, SIGNATURE_MSG)"
   ]
  },
  {
   "cell_type": "code",
   "execution_count": null,
   "metadata": {},
   "outputs": [],
   "source": [
    "# wrongly encrypted request\n",
    "\n",
    "url = \"http://127.0.0.1:8000/v1/password/generate\"\n",
    "header = {\n",
    "    \"clientId\": 10000\n",
    "}\n",
    "body = {\n",
    "    \"clientId\":10000,\n",
    "    \"entryId\": 20000,\n",
    "    \"userInput\":\"google\",\n",
    "    \"token\": \"xk034#9ucpx@k03-2in9xb2\"\n",
    "}\n",
    "\n",
    "encrytped_payload = encrypt_payload(header, body, SHARED_SECRET, TEST_API_KEY)\n",
    "r = requests.post(url, json=encrytped_payload)\n",
    "print(f\"status code: {r.status_code}\")\n",
    "\n",
    "response_body = decrypt_payload(r, TEST_API_KEY, SHARED_SECRET, SIGNATURE_MSG)"
   ]
  },
  {
   "attachments": {},
   "cell_type": "markdown",
   "metadata": {},
   "source": [
    "### Entry Creation"
   ]
  },
  {
   "cell_type": "code",
   "execution_count": null,
   "metadata": {},
   "outputs": [],
   "source": [
    "# happy flow\n",
    "\n",
    "url = \"http://127.0.0.1:8000/v1/entry/create\"\n",
    "header = {\n",
    "    \"clientId\": 10000\n",
    "}\n",
    "body = {\n",
    "    \"clientId\":10000,\n",
    "    \"entryReferenceId\":\"G0001\",\n",
    "    \"passwordLength\":15,\n",
    "    \"siteName\":\"Google\",\n",
    "    \"siteType\":\"Website\",\n",
    "    \"metadata\":\"www.google.com\",\n",
    "    \"username\":\"abc\"\n",
    "}\n",
    "\n",
    "encrytped_payload = encrypt_payload(header, body, TEST_API_KEY, SHARED_SECRET)\n",
    "r = requests.post(url, json=encrytped_payload)\n",
    "print(f\"status code: {r.status_code}\")\n",
    "\n",
    "response_body = decrypt_payload(r, TEST_API_KEY, SHARED_SECRET, SIGNATURE_MSG)"
   ]
  },
  {
   "cell_type": "code",
   "execution_count": null,
   "metadata": {},
   "outputs": [],
   "source": [
    "# wrong field type\n",
    "\n",
    "url = \"http://127.0.0.1:8000/v1/entry/create\"\n",
    "header = {\n",
    "    \"clientId\": 10000\n",
    "}\n",
    "body = {\n",
    "    \"clientId\":10000,\n",
    "    \"entryReferenceId\":\"G0001\",\n",
    "    \"passwordLength\":\"15\",\n",
    "    \"siteName\":\"Google\",\n",
    "    \"siteType\":\"Website\",\n",
    "    \"metadata\":\"www.google.com\",\n",
    "    \"username\":\"abc\"\n",
    "}\n",
    "\n",
    "encrytped_payload = encrypt_payload(header, body, TEST_API_KEY, SHARED_SECRET)\n",
    "r = requests.post(url, json=encrytped_payload)\n",
    "print(f\"status code: {r.status_code}\")\n",
    "\n",
    "response_body = decrypt_payload(r, TEST_API_KEY, SHARED_SECRET, SIGNATURE_MSG)"
   ]
  },
  {
   "cell_type": "code",
   "execution_count": null,
   "metadata": {},
   "outputs": [],
   "source": [
    "# missing fields\n",
    "\n",
    "url = \"http://127.0.0.1:8000/v1/entry/create\"\n",
    "header = {\n",
    "    \"clientId\": 10000\n",
    "}\n",
    "body = {\n",
    "    \"clientId\":10000,\n",
    "    \"passwordLength\":15,\n",
    "    \"siteName\":\"Google\",\n",
    "    \"siteType\":\"Website\",\n",
    "    \"metadata\":\"www.google.com\",\n",
    "    \"username\":\"abc\"\n",
    "}\n",
    "\n",
    "encrytped_payload = encrypt_payload(header, body, TEST_API_KEY, SHARED_SECRET)\n",
    "r = requests.post(url, json=encrytped_payload)\n",
    "print(f\"status code: {r.status_code}\")\n",
    "\n",
    "response_body = decrypt_payload(r, TEST_API_KEY, SHARED_SECRET, SIGNATURE_MSG)"
   ]
  },
  {
   "cell_type": "code",
   "execution_count": null,
   "metadata": {},
   "outputs": [],
   "source": [
    "# Less than minimum password length\n",
    "\n",
    "url = \"http://127.0.0.1:8000/v1/entry/create\"\n",
    "header = {\n",
    "    \"clientId\": 10000\n",
    "}\n",
    "body = {\n",
    "    \"clientId\":10000,\n",
    "    \"entryReferenceId\":\"G0001\",\n",
    "    \"passwordLength\":4,\n",
    "    \"siteName\":\"Google\",\n",
    "    \"siteType\":\"Website\",\n",
    "    \"metadata\":\"www.google.com\",\n",
    "    \"username\":\"abc\"\n",
    "}\n",
    "\n",
    "encrytped_payload = encrypt_payload(header, body, TEST_API_KEY, SHARED_SECRET)\n",
    "r = requests.post(url, json=encrytped_payload)\n",
    "print(f\"status code: {r.status_code}\")\n",
    "\n",
    "response_body = decrypt_payload(r, TEST_API_KEY, SHARED_SECRET, SIGNATURE_MSG)"
   ]
  },
  {
   "cell_type": "code",
   "execution_count": null,
   "metadata": {},
   "outputs": [],
   "source": [
    "# client ID not found in database\n",
    "\n",
    "url = \"http://127.0.0.1:8000/v1/entry/create\"\n",
    "header = {\n",
    "    \"clientId\": 10000\n",
    "}\n",
    "body = {\n",
    "    \"clientId\":20000,\n",
    "    \"entryReferenceId\":\"G0001\",\n",
    "    \"passwordLength\":15,\n",
    "    \"siteName\":\"Google\",\n",
    "    \"siteType\":\"Website\",\n",
    "    \"metadata\":\"www.google.com\",\n",
    "    \"username\":\"abc\"\n",
    "}\n",
    "\n",
    "encrytped_payload = encrypt_payload(header, body, TEST_API_KEY, SHARED_SECRET)\n",
    "r = requests.post(url, json=encrytped_payload)\n",
    "print(f\"status code: {r.status_code}\")\n",
    "\n",
    "response_body = decrypt_payload(r, TEST_API_KEY, SHARED_SECRET, SIGNATURE_MSG)"
   ]
  },
  {
   "cell_type": "code",
   "execution_count": null,
   "metadata": {},
   "outputs": [],
   "source": [
    "# wrongly encrypted request\n",
    "\n",
    "url = \"http://127.0.0.1:8000/v1/entry/create\"\n",
    "header = {\n",
    "    \"clientId\": 10000\n",
    "}\n",
    "body = {\n",
    "    \"clientId\":10000,\n",
    "    \"entryReferenceId\":\"G0001\",\n",
    "    \"passwordLength\":15,\n",
    "    \"siteName\":\"Google\",\n",
    "    \"siteType\":\"Website\",\n",
    "    \"metadata\":\"www.google.com\",\n",
    "    \"username\":\"abc\"\n",
    "}\n",
    "\n",
    "encrytped_payload = encrypt_payload(header, body, SHARED_SECRET, TEST_API_KEY)\n",
    "r = requests.post(url, json=encrytped_payload)\n",
    "print(f\"status code: {r.status_code}\")\n",
    "\n",
    "response_body = decrypt_payload(r, TEST_API_KEY, SHARED_SECRET, SIGNATURE_MSG)"
   ]
  }
 ],
 "metadata": {
  "kernelspec": {
   "display_name": "Python 3",
   "language": "python",
   "name": "python3"
  },
  "language_info": {
   "codemirror_mode": {
    "name": "ipython",
    "version": 3
   },
   "file_extension": ".py",
   "mimetype": "text/x-python",
   "name": "python",
   "nbconvert_exporter": "python",
   "pygments_lexer": "ipython3",
   "version": "3.10.2"
  },
  "orig_nbformat": 4
 },
 "nbformat": 4,
 "nbformat_minor": 2
}
